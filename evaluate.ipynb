{
 "cells": [
  {
   "cell_type": "code",
   "execution_count": 1,
   "id": "85687e24",
   "metadata": {},
   "outputs": [],
   "source": [
    "# evaluate exercises"
   ]
  },
  {
   "cell_type": "markdown",
   "id": "cbeac82c",
   "metadata": {},
   "source": [
    "# Exercises\n",
    "\n",
    "Do you work for this exercise in either a jupyter notebook named evaluate within your regression-exercises repository. By the end of this exercise you will also create a python script named evaluate, so the overall deliverables for this exercise are the python script and jupyter notebook both with the name evaluate within your regression-exercises repo.\n",
    "\n",
    " - Load the tips dataset from either pydataset or seaborn.\n",
    "\n",
    " - Fit a linear regression model (ordinary least squares) and compute yhat, predictions of tip using total_bill.\n",
    "\n",
    " - Here is some sample code to get you started:\n",
    " \n",
    "     "
   ]
  },
  {
   "cell_type": "code",
   "execution_count": null,
   "id": "25febf5d",
   "metadata": {},
   "outputs": [],
   "source": [
    "# from sklearn.linear_model import LinearRegression\n",
    "\n",
    "# assuming X and y are already defined\n",
    "# model = LinearRegression().fit(X, y)\n",
    "# predictions = model.predict(X)"
   ]
  },
  {
   "cell_type": "markdown",
   "id": "fc731645",
   "metadata": {},
   "source": [
    "- Modify and add to the code above as necessary for it to work with the tips dataset.\n",
    "\n",
    "- Plot the residuals for the linear regression model that you made.\n",
    "\n",
    "- Calculate the sum of squared errors, explained sum of squares, total sum of squares, mean squared error, and root mean squared error for your model.\n",
    "\n",
    "- Calculate the sum of squared errors, mean squared error, and root mean squared error for the baseline model (i.e. a model that always predicts the average tip amount).\n",
    "\n",
    "- Write python code that compares the sum of squared errors for your model against the sum of squared errors for the baseline model and outputs whether or not your model performs better than the baseline model.\n",
    "\n",
    "- What is the amount of variance explained in your model?\n",
    "\n",
    "- Is your model better than the baseline model?\n",
    "\n",
    "- Create a file named evaluate.py that contains the following functions.\n",
    "\n",
    "    - plot_residuals(y, yhat): creates a residual plot\n",
    "    - regression_errors(y, yhat): returns the following values:\n",
    "        - sum of squared errors (SSE)\n",
    "        - explained sum of squares (ESS)\n",
    "        - total sum of squares (TSS)\n",
    "        - mean squared error (MSE)\n",
    "        - root mean squared error (RMSE)\n",
    "    - baseline_mean_errors(y): computes the SSE, MSE, and RMSE for the baseline model\n",
    "    - better_than_baseline(y, yhat): returns true if your model performs better than the baseline, otherwise false"
   ]
  },
  {
   "cell_type": "markdown",
   "id": "b44e6a92",
   "metadata": {},
   "source": [
    "Load the mpg dataset and fit a model that predicts highway mileage based on engine displacement. Take a look at all the regression evaluation metrics, and determine whether this model is better than the baseline model. Use the functions from your evaluate.py to help accomplish this."
   ]
  },
  {
   "cell_type": "code",
   "execution_count": 9,
   "id": "b67a59a2",
   "metadata": {},
   "outputs": [],
   "source": [
    "# imports\n",
    "import warnings\n",
    "warnings.filterwarnings(\"ignore\")\n",
    "import numpy as np\n",
    "import pandas as pd\n",
    "import seaborn as sns\n",
    "import matplotlib.pyplot as plt\n",
    "from pydataset import data\n",
    "from statsmodels.formula.api import ols\n",
    "\n",
    "from scipy import stats\n",
    "from sklearn.metrics import mean_squared_error, r2_score, explained_variance_score\n",
    "\n",
    "from sklearn.linear_model import LinearRegression\n",
    "from sklearn.feature_selection import f_regression \n",
    "from sklearn.metrics import mean_squared_error\n",
    "from math import sqrt\n",
    "import matplotlib.pyplot as plt"
   ]
  },
  {
   "cell_type": "code",
   "execution_count": 10,
   "id": "d25b32fd",
   "metadata": {},
   "outputs": [],
   "source": [
    "# getting my tips data\n",
    "df = data('tips')"
   ]
  },
  {
   "cell_type": "code",
   "execution_count": 11,
   "id": "8385956a",
   "metadata": {},
   "outputs": [
    {
     "data": {
      "text/html": [
       "<div>\n",
       "<style scoped>\n",
       "    .dataframe tbody tr th:only-of-type {\n",
       "        vertical-align: middle;\n",
       "    }\n",
       "\n",
       "    .dataframe tbody tr th {\n",
       "        vertical-align: top;\n",
       "    }\n",
       "\n",
       "    .dataframe thead th {\n",
       "        text-align: right;\n",
       "    }\n",
       "</style>\n",
       "<table border=\"1\" class=\"dataframe\">\n",
       "  <thead>\n",
       "    <tr style=\"text-align: right;\">\n",
       "      <th></th>\n",
       "      <th>total_bill</th>\n",
       "      <th>tip</th>\n",
       "      <th>sex</th>\n",
       "      <th>smoker</th>\n",
       "      <th>day</th>\n",
       "      <th>time</th>\n",
       "      <th>size</th>\n",
       "    </tr>\n",
       "  </thead>\n",
       "  <tbody>\n",
       "    <tr>\n",
       "      <th>1</th>\n",
       "      <td>16.99</td>\n",
       "      <td>1.01</td>\n",
       "      <td>Female</td>\n",
       "      <td>No</td>\n",
       "      <td>Sun</td>\n",
       "      <td>Dinner</td>\n",
       "      <td>2</td>\n",
       "    </tr>\n",
       "    <tr>\n",
       "      <th>2</th>\n",
       "      <td>10.34</td>\n",
       "      <td>1.66</td>\n",
       "      <td>Male</td>\n",
       "      <td>No</td>\n",
       "      <td>Sun</td>\n",
       "      <td>Dinner</td>\n",
       "      <td>3</td>\n",
       "    </tr>\n",
       "    <tr>\n",
       "      <th>3</th>\n",
       "      <td>21.01</td>\n",
       "      <td>3.50</td>\n",
       "      <td>Male</td>\n",
       "      <td>No</td>\n",
       "      <td>Sun</td>\n",
       "      <td>Dinner</td>\n",
       "      <td>3</td>\n",
       "    </tr>\n",
       "    <tr>\n",
       "      <th>4</th>\n",
       "      <td>23.68</td>\n",
       "      <td>3.31</td>\n",
       "      <td>Male</td>\n",
       "      <td>No</td>\n",
       "      <td>Sun</td>\n",
       "      <td>Dinner</td>\n",
       "      <td>2</td>\n",
       "    </tr>\n",
       "    <tr>\n",
       "      <th>5</th>\n",
       "      <td>24.59</td>\n",
       "      <td>3.61</td>\n",
       "      <td>Female</td>\n",
       "      <td>No</td>\n",
       "      <td>Sun</td>\n",
       "      <td>Dinner</td>\n",
       "      <td>4</td>\n",
       "    </tr>\n",
       "  </tbody>\n",
       "</table>\n",
       "</div>"
      ],
      "text/plain": [
       "   total_bill   tip     sex smoker  day    time  size\n",
       "1       16.99  1.01  Female     No  Sun  Dinner     2\n",
       "2       10.34  1.66    Male     No  Sun  Dinner     3\n",
       "3       21.01  3.50    Male     No  Sun  Dinner     3\n",
       "4       23.68  3.31    Male     No  Sun  Dinner     2\n",
       "5       24.59  3.61  Female     No  Sun  Dinner     4"
      ]
     },
     "execution_count": 11,
     "metadata": {},
     "output_type": "execute_result"
    }
   ],
   "source": [
    "df.head() # check_yo_head"
   ]
  },
  {
   "cell_type": "code",
   "execution_count": 20,
   "id": "00df45bf",
   "metadata": {},
   "outputs": [],
   "source": [
    "# creating a baseline for my df\n",
    "df['yhat_baseline'] = df['tip'].mean()"
   ]
  },
  {
   "cell_type": "code",
   "execution_count": 21,
   "id": "27db1d86",
   "metadata": {},
   "outputs": [
    {
     "data": {
      "text/html": [
       "<div>\n",
       "<style scoped>\n",
       "    .dataframe tbody tr th:only-of-type {\n",
       "        vertical-align: middle;\n",
       "    }\n",
       "\n",
       "    .dataframe tbody tr th {\n",
       "        vertical-align: top;\n",
       "    }\n",
       "\n",
       "    .dataframe thead th {\n",
       "        text-align: right;\n",
       "    }\n",
       "</style>\n",
       "<table border=\"1\" class=\"dataframe\">\n",
       "  <thead>\n",
       "    <tr style=\"text-align: right;\">\n",
       "      <th></th>\n",
       "      <th>total_bill</th>\n",
       "      <th>tip</th>\n",
       "      <th>sex</th>\n",
       "      <th>smoker</th>\n",
       "      <th>day</th>\n",
       "      <th>time</th>\n",
       "      <th>size</th>\n",
       "      <th>yhat_baseline</th>\n",
       "    </tr>\n",
       "  </thead>\n",
       "  <tbody>\n",
       "    <tr>\n",
       "      <th>1</th>\n",
       "      <td>16.99</td>\n",
       "      <td>1.01</td>\n",
       "      <td>Female</td>\n",
       "      <td>No</td>\n",
       "      <td>Sun</td>\n",
       "      <td>Dinner</td>\n",
       "      <td>2</td>\n",
       "      <td>2.998279</td>\n",
       "    </tr>\n",
       "    <tr>\n",
       "      <th>2</th>\n",
       "      <td>10.34</td>\n",
       "      <td>1.66</td>\n",
       "      <td>Male</td>\n",
       "      <td>No</td>\n",
       "      <td>Sun</td>\n",
       "      <td>Dinner</td>\n",
       "      <td>3</td>\n",
       "      <td>2.998279</td>\n",
       "    </tr>\n",
       "    <tr>\n",
       "      <th>3</th>\n",
       "      <td>21.01</td>\n",
       "      <td>3.50</td>\n",
       "      <td>Male</td>\n",
       "      <td>No</td>\n",
       "      <td>Sun</td>\n",
       "      <td>Dinner</td>\n",
       "      <td>3</td>\n",
       "      <td>2.998279</td>\n",
       "    </tr>\n",
       "    <tr>\n",
       "      <th>4</th>\n",
       "      <td>23.68</td>\n",
       "      <td>3.31</td>\n",
       "      <td>Male</td>\n",
       "      <td>No</td>\n",
       "      <td>Sun</td>\n",
       "      <td>Dinner</td>\n",
       "      <td>2</td>\n",
       "      <td>2.998279</td>\n",
       "    </tr>\n",
       "    <tr>\n",
       "      <th>5</th>\n",
       "      <td>24.59</td>\n",
       "      <td>3.61</td>\n",
       "      <td>Female</td>\n",
       "      <td>No</td>\n",
       "      <td>Sun</td>\n",
       "      <td>Dinner</td>\n",
       "      <td>4</td>\n",
       "      <td>2.998279</td>\n",
       "    </tr>\n",
       "  </tbody>\n",
       "</table>\n",
       "</div>"
      ],
      "text/plain": [
       "   total_bill   tip     sex smoker  day    time  size  yhat_baseline\n",
       "1       16.99  1.01  Female     No  Sun  Dinner     2       2.998279\n",
       "2       10.34  1.66    Male     No  Sun  Dinner     3       2.998279\n",
       "3       21.01  3.50    Male     No  Sun  Dinner     3       2.998279\n",
       "4       23.68  3.31    Male     No  Sun  Dinner     2       2.998279\n",
       "5       24.59  3.61  Female     No  Sun  Dinner     4       2.998279"
      ]
     },
     "execution_count": 21,
     "metadata": {},
     "output_type": "execute_result"
    }
   ],
   "source": [
    "df.head() #check_yo_head"
   ]
  },
  {
   "cell_type": "code",
   "execution_count": 22,
   "id": "1d624d74",
   "metadata": {},
   "outputs": [],
   "source": [
    "# fiting my data using example provided\n",
    "from sklearn.linear_model import LinearRegression\n",
    "\n",
    "model = LinearRegression().fit(df[['total_bill']], df[['tip']])\n",
    "predictions = model.predict(df[['total_bill']])"
   ]
  },
  {
   "cell_type": "code",
   "execution_count": 23,
   "id": "35803535",
   "metadata": {},
   "outputs": [],
   "source": [
    "# creating a 'yhat' column from predictions \n",
    "df['yhat'] = predictions"
   ]
  },
  {
   "cell_type": "code",
   "execution_count": 24,
   "id": "799fde6d",
   "metadata": {},
   "outputs": [
    {
     "data": {
      "text/html": [
       "<div>\n",
       "<style scoped>\n",
       "    .dataframe tbody tr th:only-of-type {\n",
       "        vertical-align: middle;\n",
       "    }\n",
       "\n",
       "    .dataframe tbody tr th {\n",
       "        vertical-align: top;\n",
       "    }\n",
       "\n",
       "    .dataframe thead th {\n",
       "        text-align: right;\n",
       "    }\n",
       "</style>\n",
       "<table border=\"1\" class=\"dataframe\">\n",
       "  <thead>\n",
       "    <tr style=\"text-align: right;\">\n",
       "      <th></th>\n",
       "      <th>total_bill</th>\n",
       "      <th>tip</th>\n",
       "      <th>sex</th>\n",
       "      <th>smoker</th>\n",
       "      <th>day</th>\n",
       "      <th>time</th>\n",
       "      <th>size</th>\n",
       "      <th>yhat_baseline</th>\n",
       "      <th>yhat</th>\n",
       "    </tr>\n",
       "  </thead>\n",
       "  <tbody>\n",
       "    <tr>\n",
       "      <th>1</th>\n",
       "      <td>16.99</td>\n",
       "      <td>1.01</td>\n",
       "      <td>Female</td>\n",
       "      <td>No</td>\n",
       "      <td>Sun</td>\n",
       "      <td>Dinner</td>\n",
       "      <td>2</td>\n",
       "      <td>2.998279</td>\n",
       "      <td>2.704636</td>\n",
       "    </tr>\n",
       "    <tr>\n",
       "      <th>2</th>\n",
       "      <td>10.34</td>\n",
       "      <td>1.66</td>\n",
       "      <td>Male</td>\n",
       "      <td>No</td>\n",
       "      <td>Sun</td>\n",
       "      <td>Dinner</td>\n",
       "      <td>3</td>\n",
       "      <td>2.998279</td>\n",
       "      <td>2.006223</td>\n",
       "    </tr>\n",
       "    <tr>\n",
       "      <th>3</th>\n",
       "      <td>21.01</td>\n",
       "      <td>3.50</td>\n",
       "      <td>Male</td>\n",
       "      <td>No</td>\n",
       "      <td>Sun</td>\n",
       "      <td>Dinner</td>\n",
       "      <td>3</td>\n",
       "      <td>2.998279</td>\n",
       "      <td>3.126835</td>\n",
       "    </tr>\n",
       "    <tr>\n",
       "      <th>4</th>\n",
       "      <td>23.68</td>\n",
       "      <td>3.31</td>\n",
       "      <td>Male</td>\n",
       "      <td>No</td>\n",
       "      <td>Sun</td>\n",
       "      <td>Dinner</td>\n",
       "      <td>2</td>\n",
       "      <td>2.998279</td>\n",
       "      <td>3.407250</td>\n",
       "    </tr>\n",
       "    <tr>\n",
       "      <th>5</th>\n",
       "      <td>24.59</td>\n",
       "      <td>3.61</td>\n",
       "      <td>Female</td>\n",
       "      <td>No</td>\n",
       "      <td>Sun</td>\n",
       "      <td>Dinner</td>\n",
       "      <td>4</td>\n",
       "      <td>2.998279</td>\n",
       "      <td>3.502822</td>\n",
       "    </tr>\n",
       "  </tbody>\n",
       "</table>\n",
       "</div>"
      ],
      "text/plain": [
       "   total_bill   tip     sex smoker  day    time  size  yhat_baseline      yhat\n",
       "1       16.99  1.01  Female     No  Sun  Dinner     2       2.998279  2.704636\n",
       "2       10.34  1.66    Male     No  Sun  Dinner     3       2.998279  2.006223\n",
       "3       21.01  3.50    Male     No  Sun  Dinner     3       2.998279  3.126835\n",
       "4       23.68  3.31    Male     No  Sun  Dinner     2       2.998279  3.407250\n",
       "5       24.59  3.61  Female     No  Sun  Dinner     4       2.998279  3.502822"
      ]
     },
     "execution_count": 24,
     "metadata": {},
     "output_type": "execute_result"
    }
   ],
   "source": [
    "df.head() # check_yo_head"
   ]
  },
  {
   "cell_type": "code",
   "execution_count": 27,
   "id": "8ac382db",
   "metadata": {},
   "outputs": [],
   "source": [
    "# creating a 'residuals' column using 'tip' and 'yhat' column\n",
    "df['residuals'] = df.tip - df.yhat"
   ]
  },
  {
   "cell_type": "code",
   "execution_count": 28,
   "id": "b58f96cc",
   "metadata": {},
   "outputs": [
    {
     "data": {
      "text/html": [
       "<div>\n",
       "<style scoped>\n",
       "    .dataframe tbody tr th:only-of-type {\n",
       "        vertical-align: middle;\n",
       "    }\n",
       "\n",
       "    .dataframe tbody tr th {\n",
       "        vertical-align: top;\n",
       "    }\n",
       "\n",
       "    .dataframe thead th {\n",
       "        text-align: right;\n",
       "    }\n",
       "</style>\n",
       "<table border=\"1\" class=\"dataframe\">\n",
       "  <thead>\n",
       "    <tr style=\"text-align: right;\">\n",
       "      <th></th>\n",
       "      <th>total_bill</th>\n",
       "      <th>tip</th>\n",
       "      <th>sex</th>\n",
       "      <th>smoker</th>\n",
       "      <th>day</th>\n",
       "      <th>time</th>\n",
       "      <th>size</th>\n",
       "      <th>yhat_baseline</th>\n",
       "      <th>yhat</th>\n",
       "      <th>residuals</th>\n",
       "    </tr>\n",
       "  </thead>\n",
       "  <tbody>\n",
       "    <tr>\n",
       "      <th>1</th>\n",
       "      <td>16.99</td>\n",
       "      <td>1.01</td>\n",
       "      <td>Female</td>\n",
       "      <td>No</td>\n",
       "      <td>Sun</td>\n",
       "      <td>Dinner</td>\n",
       "      <td>2</td>\n",
       "      <td>2.998279</td>\n",
       "      <td>2.704636</td>\n",
       "      <td>-1.694636</td>\n",
       "    </tr>\n",
       "    <tr>\n",
       "      <th>2</th>\n",
       "      <td>10.34</td>\n",
       "      <td>1.66</td>\n",
       "      <td>Male</td>\n",
       "      <td>No</td>\n",
       "      <td>Sun</td>\n",
       "      <td>Dinner</td>\n",
       "      <td>3</td>\n",
       "      <td>2.998279</td>\n",
       "      <td>2.006223</td>\n",
       "      <td>-0.346223</td>\n",
       "    </tr>\n",
       "    <tr>\n",
       "      <th>3</th>\n",
       "      <td>21.01</td>\n",
       "      <td>3.50</td>\n",
       "      <td>Male</td>\n",
       "      <td>No</td>\n",
       "      <td>Sun</td>\n",
       "      <td>Dinner</td>\n",
       "      <td>3</td>\n",
       "      <td>2.998279</td>\n",
       "      <td>3.126835</td>\n",
       "      <td>0.373165</td>\n",
       "    </tr>\n",
       "    <tr>\n",
       "      <th>4</th>\n",
       "      <td>23.68</td>\n",
       "      <td>3.31</td>\n",
       "      <td>Male</td>\n",
       "      <td>No</td>\n",
       "      <td>Sun</td>\n",
       "      <td>Dinner</td>\n",
       "      <td>2</td>\n",
       "      <td>2.998279</td>\n",
       "      <td>3.407250</td>\n",
       "      <td>-0.097250</td>\n",
       "    </tr>\n",
       "    <tr>\n",
       "      <th>5</th>\n",
       "      <td>24.59</td>\n",
       "      <td>3.61</td>\n",
       "      <td>Female</td>\n",
       "      <td>No</td>\n",
       "      <td>Sun</td>\n",
       "      <td>Dinner</td>\n",
       "      <td>4</td>\n",
       "      <td>2.998279</td>\n",
       "      <td>3.502822</td>\n",
       "      <td>0.107178</td>\n",
       "    </tr>\n",
       "  </tbody>\n",
       "</table>\n",
       "</div>"
      ],
      "text/plain": [
       "   total_bill   tip     sex smoker  day    time  size  yhat_baseline  \\\n",
       "1       16.99  1.01  Female     No  Sun  Dinner     2       2.998279   \n",
       "2       10.34  1.66    Male     No  Sun  Dinner     3       2.998279   \n",
       "3       21.01  3.50    Male     No  Sun  Dinner     3       2.998279   \n",
       "4       23.68  3.31    Male     No  Sun  Dinner     2       2.998279   \n",
       "5       24.59  3.61  Female     No  Sun  Dinner     4       2.998279   \n",
       "\n",
       "       yhat  residuals  \n",
       "1  2.704636  -1.694636  \n",
       "2  2.006223  -0.346223  \n",
       "3  3.126835   0.373165  \n",
       "4  3.407250  -0.097250  \n",
       "5  3.502822   0.107178  "
      ]
     },
     "execution_count": 28,
     "metadata": {},
     "output_type": "execute_result"
    }
   ],
   "source": [
    "df.head() # check_yo_head"
   ]
  },
  {
   "cell_type": "code",
   "execution_count": 29,
   "id": "a712d0fd",
   "metadata": {},
   "outputs": [],
   "source": [
    "# creating a 'baseline_residuals' column using 'tip' and 'baseline'\n",
    "df['baseline_residuals'] = df.tip - df.yhat_baseline"
   ]
  },
  {
   "cell_type": "code",
   "execution_count": 30,
   "id": "5821e081",
   "metadata": {},
   "outputs": [
    {
     "data": {
      "text/html": [
       "<div>\n",
       "<style scoped>\n",
       "    .dataframe tbody tr th:only-of-type {\n",
       "        vertical-align: middle;\n",
       "    }\n",
       "\n",
       "    .dataframe tbody tr th {\n",
       "        vertical-align: top;\n",
       "    }\n",
       "\n",
       "    .dataframe thead th {\n",
       "        text-align: right;\n",
       "    }\n",
       "</style>\n",
       "<table border=\"1\" class=\"dataframe\">\n",
       "  <thead>\n",
       "    <tr style=\"text-align: right;\">\n",
       "      <th></th>\n",
       "      <th>total_bill</th>\n",
       "      <th>tip</th>\n",
       "      <th>sex</th>\n",
       "      <th>smoker</th>\n",
       "      <th>day</th>\n",
       "      <th>time</th>\n",
       "      <th>size</th>\n",
       "      <th>yhat_baseline</th>\n",
       "      <th>yhat</th>\n",
       "      <th>residuals</th>\n",
       "      <th>baseline_residuals</th>\n",
       "    </tr>\n",
       "  </thead>\n",
       "  <tbody>\n",
       "    <tr>\n",
       "      <th>1</th>\n",
       "      <td>16.99</td>\n",
       "      <td>1.01</td>\n",
       "      <td>Female</td>\n",
       "      <td>No</td>\n",
       "      <td>Sun</td>\n",
       "      <td>Dinner</td>\n",
       "      <td>2</td>\n",
       "      <td>2.998279</td>\n",
       "      <td>2.704636</td>\n",
       "      <td>-1.694636</td>\n",
       "      <td>-1.988279</td>\n",
       "    </tr>\n",
       "    <tr>\n",
       "      <th>2</th>\n",
       "      <td>10.34</td>\n",
       "      <td>1.66</td>\n",
       "      <td>Male</td>\n",
       "      <td>No</td>\n",
       "      <td>Sun</td>\n",
       "      <td>Dinner</td>\n",
       "      <td>3</td>\n",
       "      <td>2.998279</td>\n",
       "      <td>2.006223</td>\n",
       "      <td>-0.346223</td>\n",
       "      <td>-1.338279</td>\n",
       "    </tr>\n",
       "    <tr>\n",
       "      <th>3</th>\n",
       "      <td>21.01</td>\n",
       "      <td>3.50</td>\n",
       "      <td>Male</td>\n",
       "      <td>No</td>\n",
       "      <td>Sun</td>\n",
       "      <td>Dinner</td>\n",
       "      <td>3</td>\n",
       "      <td>2.998279</td>\n",
       "      <td>3.126835</td>\n",
       "      <td>0.373165</td>\n",
       "      <td>0.501721</td>\n",
       "    </tr>\n",
       "    <tr>\n",
       "      <th>4</th>\n",
       "      <td>23.68</td>\n",
       "      <td>3.31</td>\n",
       "      <td>Male</td>\n",
       "      <td>No</td>\n",
       "      <td>Sun</td>\n",
       "      <td>Dinner</td>\n",
       "      <td>2</td>\n",
       "      <td>2.998279</td>\n",
       "      <td>3.407250</td>\n",
       "      <td>-0.097250</td>\n",
       "      <td>0.311721</td>\n",
       "    </tr>\n",
       "    <tr>\n",
       "      <th>5</th>\n",
       "      <td>24.59</td>\n",
       "      <td>3.61</td>\n",
       "      <td>Female</td>\n",
       "      <td>No</td>\n",
       "      <td>Sun</td>\n",
       "      <td>Dinner</td>\n",
       "      <td>4</td>\n",
       "      <td>2.998279</td>\n",
       "      <td>3.502822</td>\n",
       "      <td>0.107178</td>\n",
       "      <td>0.611721</td>\n",
       "    </tr>\n",
       "  </tbody>\n",
       "</table>\n",
       "</div>"
      ],
      "text/plain": [
       "   total_bill   tip     sex smoker  day    time  size  yhat_baseline  \\\n",
       "1       16.99  1.01  Female     No  Sun  Dinner     2       2.998279   \n",
       "2       10.34  1.66    Male     No  Sun  Dinner     3       2.998279   \n",
       "3       21.01  3.50    Male     No  Sun  Dinner     3       2.998279   \n",
       "4       23.68  3.31    Male     No  Sun  Dinner     2       2.998279   \n",
       "5       24.59  3.61  Female     No  Sun  Dinner     4       2.998279   \n",
       "\n",
       "       yhat  residuals  baseline_residuals  \n",
       "1  2.704636  -1.694636           -1.988279  \n",
       "2  2.006223  -0.346223           -1.338279  \n",
       "3  3.126835   0.373165            0.501721  \n",
       "4  3.407250  -0.097250            0.311721  \n",
       "5  3.502822   0.107178            0.611721  "
      ]
     },
     "execution_count": 30,
     "metadata": {},
     "output_type": "execute_result"
    }
   ],
   "source": [
    "df.head() # check_yo_head"
   ]
  },
  {
   "cell_type": "code",
   "execution_count": 31,
   "id": "b012fe2e",
   "metadata": {},
   "outputs": [
    {
     "data": {
      "text/plain": [
       "<matplotlib.legend.Legend at 0x7fc6c147c220>"
      ]
     },
     "execution_count": 31,
     "metadata": {},
     "output_type": "execute_result"
    },
    {
     "data": {
      "image/png": "[encoded data removed]",
      "text/plain": [
       "<Figure size 936x504 with 1 Axes>"
      ]
     },
     "metadata": {
      "needs_background": "light"
     },
     "output_type": "display_data"
    }
   ],
   "source": [
    "# Plot the residuals for the linear regression model that you made.\n",
    "fig, ax = plt.subplots(figsize=(13, 7))\n",
    "\n",
    "ax.hist(df.baseline_residuals, label='baseline residuals', alpha=.6)\n",
    "ax.hist(df.residuals, label='model residuals', alpha=.6)\n",
    "ax.legend()"
   ]
  },
  {
   "cell_type": "code",
   "execution_count": 35,
   "id": "303780d0",
   "metadata": {},
   "outputs": [
    {
     "data": {
      "image/png": "[encoded data removed]",
      "text/plain": [
       "<Figure size 432x288 with 1 Axes>"
      ]
     },
     "metadata": {
      "needs_background": "light"
     },
     "output_type": "display_data"
    }
   ],
   "source": [
    "# taking a look at 'total_bill' and 'baseline_residuals' in a scatterplot\n",
    "plt.scatter(x='total_bill', y='baseline_residuals', data = df)\n",
    "plt.title('Baseline Residuals')\n",
    "plt.axhline(y=0)\n",
    "plt.show()"
   ]
  },
  {
   "cell_type": "code",
   "execution_count": 37,
   "id": "beeaee51",
   "metadata": {},
   "outputs": [
    {
     "data": {
      "image/png": "[encoded data removed]",
      "text/plain": [
       "<Figure size 432x288 with 1 Axes>"
      ]
     },
     "metadata": {
      "needs_background": "light"
     },
     "output_type": "display_data"
    }
   ],
   "source": [
    "# taking a look at 'total_bill' and 'residuals' in a scatterplot\n",
    "plt.scatter(x='total_bill', y='residuals', data = df)\n",
    "plt.title('Residuals')\n",
    "plt.axhline(y=0)\n",
    "plt.show()"
   ]
  },
  {
   "cell_type": "code",
   "execution_count": 38,
   "id": "932f7241",
   "metadata": {},
   "outputs": [
    {
     "data": {
      "text/html": [
       "<div>\n",
       "<style scoped>\n",
       "    .dataframe tbody tr th:only-of-type {\n",
       "        vertical-align: middle;\n",
       "    }\n",
       "\n",
       "    .dataframe tbody tr th {\n",
       "        vertical-align: top;\n",
       "    }\n",
       "\n",
       "    .dataframe thead th {\n",
       "        text-align: right;\n",
       "    }\n",
       "</style>\n",
       "<table border=\"1\" class=\"dataframe\">\n",
       "  <thead>\n",
       "    <tr style=\"text-align: right;\">\n",
       "      <th></th>\n",
       "      <th>total_bill</th>\n",
       "      <th>tip</th>\n",
       "      <th>sex</th>\n",
       "      <th>smoker</th>\n",
       "      <th>day</th>\n",
       "      <th>time</th>\n",
       "      <th>size</th>\n",
       "      <th>yhat_baseline</th>\n",
       "      <th>yhat</th>\n",
       "      <th>residuals</th>\n",
       "      <th>baseline_residuals</th>\n",
       "      <th>residual^2</th>\n",
       "      <th>baseline_residual^2</th>\n",
       "    </tr>\n",
       "  </thead>\n",
       "  <tbody>\n",
       "    <tr>\n",
       "      <th>1</th>\n",
       "      <td>16.99</td>\n",
       "      <td>1.01</td>\n",
       "      <td>Female</td>\n",
       "      <td>No</td>\n",
       "      <td>Sun</td>\n",
       "      <td>Dinner</td>\n",
       "      <td>2</td>\n",
       "      <td>2.998279</td>\n",
       "      <td>2.704636</td>\n",
       "      <td>-1.694636</td>\n",
       "      <td>-1.988279</td>\n",
       "      <td>2.871792</td>\n",
       "      <td>3.953252</td>\n",
       "    </tr>\n",
       "    <tr>\n",
       "      <th>2</th>\n",
       "      <td>10.34</td>\n",
       "      <td>1.66</td>\n",
       "      <td>Male</td>\n",
       "      <td>No</td>\n",
       "      <td>Sun</td>\n",
       "      <td>Dinner</td>\n",
       "      <td>3</td>\n",
       "      <td>2.998279</td>\n",
       "      <td>2.006223</td>\n",
       "      <td>-0.346223</td>\n",
       "      <td>-1.338279</td>\n",
       "      <td>0.119870</td>\n",
       "      <td>1.790990</td>\n",
       "    </tr>\n",
       "    <tr>\n",
       "      <th>3</th>\n",
       "      <td>21.01</td>\n",
       "      <td>3.50</td>\n",
       "      <td>Male</td>\n",
       "      <td>No</td>\n",
       "      <td>Sun</td>\n",
       "      <td>Dinner</td>\n",
       "      <td>3</td>\n",
       "      <td>2.998279</td>\n",
       "      <td>3.126835</td>\n",
       "      <td>0.373165</td>\n",
       "      <td>0.501721</td>\n",
       "      <td>0.139252</td>\n",
       "      <td>0.251724</td>\n",
       "    </tr>\n",
       "    <tr>\n",
       "      <th>4</th>\n",
       "      <td>23.68</td>\n",
       "      <td>3.31</td>\n",
       "      <td>Male</td>\n",
       "      <td>No</td>\n",
       "      <td>Sun</td>\n",
       "      <td>Dinner</td>\n",
       "      <td>2</td>\n",
       "      <td>2.998279</td>\n",
       "      <td>3.407250</td>\n",
       "      <td>-0.097250</td>\n",
       "      <td>0.311721</td>\n",
       "      <td>0.009458</td>\n",
       "      <td>0.097170</td>\n",
       "    </tr>\n",
       "    <tr>\n",
       "      <th>5</th>\n",
       "      <td>24.59</td>\n",
       "      <td>3.61</td>\n",
       "      <td>Female</td>\n",
       "      <td>No</td>\n",
       "      <td>Sun</td>\n",
       "      <td>Dinner</td>\n",
       "      <td>4</td>\n",
       "      <td>2.998279</td>\n",
       "      <td>3.502822</td>\n",
       "      <td>0.107178</td>\n",
       "      <td>0.611721</td>\n",
       "      <td>0.011487</td>\n",
       "      <td>0.374203</td>\n",
       "    </tr>\n",
       "  </tbody>\n",
       "</table>\n",
       "</div>"
      ],
      "text/plain": [
       "   total_bill   tip     sex smoker  day    time  size  yhat_baseline  \\\n",
       "1       16.99  1.01  Female     No  Sun  Dinner     2       2.998279   \n",
       "2       10.34  1.66    Male     No  Sun  Dinner     3       2.998279   \n",
       "3       21.01  3.50    Male     No  Sun  Dinner     3       2.998279   \n",
       "4       23.68  3.31    Male     No  Sun  Dinner     2       2.998279   \n",
       "5       24.59  3.61  Female     No  Sun  Dinner     4       2.998279   \n",
       "\n",
       "       yhat  residuals  baseline_residuals  residual^2  baseline_residual^2  \n",
       "1  2.704636  -1.694636           -1.988279    2.871792             3.953252  \n",
       "2  2.006223  -0.346223           -1.338279    0.119870             1.790990  \n",
       "3  3.126835   0.373165            0.501721    0.139252             0.251724  \n",
       "4  3.407250  -0.097250            0.311721    0.009458             0.097170  \n",
       "5  3.502822   0.107178            0.611721    0.011487             0.374203  "
      ]
     },
     "execution_count": 38,
     "metadata": {},
     "output_type": "execute_result"
    }
   ],
   "source": [
    "# Calculate the sum of squared errors, explained sum of squares, total sum of squares, mean squared error, and root mean squared error for your model.\n",
    "\n",
    "# first calculate the square of residuals\n",
    "# Creates two new columns with the calculated values\n",
    "df['residual^2'] = df.residuals**2\n",
    "df['baseline_residual^2'] = df.baseline_residuals**2\n",
    "\n",
    "df.head() # check_yo_head"
   ]
  },
  {
   "cell_type": "code",
   "execution_count": 39,
   "id": "c498b58f",
   "metadata": {},
   "outputs": [
    {
     "name": "stdout",
     "output_type": "stream",
     "text": [
      "SSE = 252.8\n",
      "SSE Baseline = 465.2\n"
     ]
    }
   ],
   "source": [
    "# calculating the sum of square errors 'SSE' and 'SSE_baseline'\n",
    "SSE = df['residual^2'].sum()\n",
    "SSE_baseline = df['baseline_residual^2'].sum()\n",
    "\n",
    "print('SSE =', \"{:.1f}\".format(SSE))\n",
    "print(\"SSE Baseline =\", \"{:.1f}\".format(SSE_baseline))"
   ]
  },
  {
   "cell_type": "code",
   "execution_count": 41,
   "id": "a0d62b65",
   "metadata": {},
   "outputs": [
    {
     "data": {
      "text/plain": [
       "244"
      ]
     },
     "execution_count": 41,
     "metadata": {},
     "output_type": "execute_result"
    }
   ],
   "source": [
    "# MSE (Mean Squared Error)\n",
    "# average of SSE = SSE/(no. of data points)\n",
    "# the average of your errors that have each been squared\n",
    "\n",
    "len(df)\n",
    "df.shape[0]"
   ]
  },
  {
   "cell_type": "code",
   "execution_count": 43,
   "id": "12e2d7f5",
   "metadata": {},
   "outputs": [
    {
     "name": "stdout",
     "output_type": "stream",
     "text": [
      "MSE =  1.0\n",
      "MSE baseline =  1.9\n"
     ]
    }
   ],
   "source": [
    "# MSE (Mean Squared Error)\n",
    "MSE = SSE/len(df)\n",
    "MSE_baseline = SSE_baseline/len(df)\n",
    "\n",
    "print(\"MSE = \", \"{:.1f}\".format(MSE))\n",
    "print(\"MSE baseline = \", \"{:.1f}\".format(MSE_baseline))"
   ]
  },
  {
   "cell_type": "code",
   "execution_count": 44,
   "id": "b8bc15ff",
   "metadata": {},
   "outputs": [
    {
     "name": "stdout",
     "output_type": "stream",
     "text": [
      "RMSE =  1.0\n",
      "RMSE baseline =  1.4\n"
     ]
    }
   ],
   "source": [
    "# RMSE (Root Mean Squared Error)\n",
    "# Square root of MSE\n",
    "# Same units as the output (y) variable\n",
    "\n",
    "from math import sqrt\n",
    "\n",
    "RMSE = sqrt(MSE)\n",
    "RMSE_baseline =  sqrt(MSE_baseline)\n",
    "\n",
    "\n",
    "print(\"RMSE = \", \"{:.1f}\".format(RMSE))\n",
    "print(\"RMSE baseline = \", \"{:.1f}\".format(RMSE_baseline))"
   ]
  },
  {
   "cell_type": "code",
   "execution_count": 46,
   "id": "7c74304f",
   "metadata": {},
   "outputs": [
    {
     "data": {
      "text/html": [
       "<div>\n",
       "<style scoped>\n",
       "    .dataframe tbody tr th:only-of-type {\n",
       "        vertical-align: middle;\n",
       "    }\n",
       "\n",
       "    .dataframe tbody tr th {\n",
       "        vertical-align: top;\n",
       "    }\n",
       "\n",
       "    .dataframe thead th {\n",
       "        text-align: right;\n",
       "    }\n",
       "</style>\n",
       "<table border=\"1\" class=\"dataframe\">\n",
       "  <thead>\n",
       "    <tr style=\"text-align: right;\">\n",
       "      <th></th>\n",
       "      <th>total_bill</th>\n",
       "      <th>tip</th>\n",
       "      <th>sex</th>\n",
       "      <th>smoker</th>\n",
       "      <th>day</th>\n",
       "      <th>time</th>\n",
       "      <th>size</th>\n",
       "      <th>yhat_baseline</th>\n",
       "      <th>yhat</th>\n",
       "      <th>residuals</th>\n",
       "      <th>baseline_residuals</th>\n",
       "      <th>residual^2</th>\n",
       "      <th>baseline_residual^2</th>\n",
       "    </tr>\n",
       "  </thead>\n",
       "  <tbody>\n",
       "    <tr>\n",
       "      <th>1</th>\n",
       "      <td>16.99</td>\n",
       "      <td>1.01</td>\n",
       "      <td>Female</td>\n",
       "      <td>No</td>\n",
       "      <td>Sun</td>\n",
       "      <td>Dinner</td>\n",
       "      <td>2</td>\n",
       "      <td>2.998279</td>\n",
       "      <td>2.704636</td>\n",
       "      <td>-1.694636</td>\n",
       "      <td>-1.988279</td>\n",
       "      <td>2.871792</td>\n",
       "      <td>3.953252</td>\n",
       "    </tr>\n",
       "    <tr>\n",
       "      <th>2</th>\n",
       "      <td>10.34</td>\n",
       "      <td>1.66</td>\n",
       "      <td>Male</td>\n",
       "      <td>No</td>\n",
       "      <td>Sun</td>\n",
       "      <td>Dinner</td>\n",
       "      <td>3</td>\n",
       "      <td>2.998279</td>\n",
       "      <td>2.006223</td>\n",
       "      <td>-0.346223</td>\n",
       "      <td>-1.338279</td>\n",
       "      <td>0.119870</td>\n",
       "      <td>1.790990</td>\n",
       "    </tr>\n",
       "    <tr>\n",
       "      <th>3</th>\n",
       "      <td>21.01</td>\n",
       "      <td>3.50</td>\n",
       "      <td>Male</td>\n",
       "      <td>No</td>\n",
       "      <td>Sun</td>\n",
       "      <td>Dinner</td>\n",
       "      <td>3</td>\n",
       "      <td>2.998279</td>\n",
       "      <td>3.126835</td>\n",
       "      <td>0.373165</td>\n",
       "      <td>0.501721</td>\n",
       "      <td>0.139252</td>\n",
       "      <td>0.251724</td>\n",
       "    </tr>\n",
       "    <tr>\n",
       "      <th>4</th>\n",
       "      <td>23.68</td>\n",
       "      <td>3.31</td>\n",
       "      <td>Male</td>\n",
       "      <td>No</td>\n",
       "      <td>Sun</td>\n",
       "      <td>Dinner</td>\n",
       "      <td>2</td>\n",
       "      <td>2.998279</td>\n",
       "      <td>3.407250</td>\n",
       "      <td>-0.097250</td>\n",
       "      <td>0.311721</td>\n",
       "      <td>0.009458</td>\n",
       "      <td>0.097170</td>\n",
       "    </tr>\n",
       "    <tr>\n",
       "      <th>5</th>\n",
       "      <td>24.59</td>\n",
       "      <td>3.61</td>\n",
       "      <td>Female</td>\n",
       "      <td>No</td>\n",
       "      <td>Sun</td>\n",
       "      <td>Dinner</td>\n",
       "      <td>4</td>\n",
       "      <td>2.998279</td>\n",
       "      <td>3.502822</td>\n",
       "      <td>0.107178</td>\n",
       "      <td>0.611721</td>\n",
       "      <td>0.011487</td>\n",
       "      <td>0.374203</td>\n",
       "    </tr>\n",
       "  </tbody>\n",
       "</table>\n",
       "</div>"
      ],
      "text/plain": [
       "   total_bill   tip     sex smoker  day    time  size  yhat_baseline  \\\n",
       "1       16.99  1.01  Female     No  Sun  Dinner     2       2.998279   \n",
       "2       10.34  1.66    Male     No  Sun  Dinner     3       2.998279   \n",
       "3       21.01  3.50    Male     No  Sun  Dinner     3       2.998279   \n",
       "4       23.68  3.31    Male     No  Sun  Dinner     2       2.998279   \n",
       "5       24.59  3.61  Female     No  Sun  Dinner     4       2.998279   \n",
       "\n",
       "       yhat  residuals  baseline_residuals  residual^2  baseline_residual^2  \n",
       "1  2.704636  -1.694636           -1.988279    2.871792             3.953252  \n",
       "2  2.006223  -0.346223           -1.338279    0.119870             1.790990  \n",
       "3  3.126835   0.373165            0.501721    0.139252             0.251724  \n",
       "4  3.407250  -0.097250            0.311721    0.009458             0.097170  \n",
       "5  3.502822   0.107178            0.611721    0.011487             0.374203  "
      ]
     },
     "execution_count": 46,
     "metadata": {},
     "output_type": "execute_result"
    }
   ],
   "source": [
    "df.head() # check_yo_head"
   ]
  },
  {
   "cell_type": "code",
   "execution_count": 49,
   "id": "425c98b7",
   "metadata": {},
   "outputs": [
    {
     "name": "stdout",
     "output_type": "stream",
     "text": [
      "MSE 1.036019442011377\n",
      "MSE baseline 1.906608512496641\n"
     ]
    }
   ],
   "source": [
    "#let's do it the easy way now\n",
    "\n",
    "from sklearn.metrics import mean_squared_error\n",
    "\n",
    "MSE2 = mean_squared_error(df.tip, df.yhat)\n",
    "MSE2_baseline = mean_squared_error(df.tip, df.yhat_baseline)\n",
    "\n",
    "print(\"MSE\", MSE2) \n",
    "print(\"MSE baseline\" ,MSE2_baseline) "
   ]
  },
  {
   "cell_type": "code",
   "execution_count": 52,
   "id": "d20087bb",
   "metadata": {},
   "outputs": [
    {
     "name": "stdout",
     "output_type": "stream",
     "text": [
      "SSE 252.788743850776\n",
      "SSE baseline 465.2124770491804\n"
     ]
    }
   ],
   "source": [
    "#calculate SSE\n",
    "\n",
    "SSE2 = MSE2 * len(df)\n",
    "SSE2_baseline = MSE2_baseline * len(df)\n",
    "\n",
    "print(\"SSE\", SSE2) \n",
    "print(\"SSE baseline\" ,SSE2_baseline) "
   ]
  },
  {
   "cell_type": "code",
   "execution_count": 54,
   "id": "17753fbe",
   "metadata": {},
   "outputs": [
    {
     "name": "stdout",
     "output_type": "stream",
     "text": [
      "RMSE 1.0178504025697377\n",
      "RMSE baseline 1.3807999538298954\n"
     ]
    }
   ],
   "source": [
    "#calculate RMSE: either take square root of MSE or use sklearn (kwarg 'squared = False')\n",
    "\n",
    "RMSE2 = mean_squared_error(df.tip, df.yhat, squared = False)\n",
    "RMSE2_baseline = mean_squared_error(df.tip, df.yhat_baseline, squared=False)\n",
    "\n",
    "print(\"RMSE\", RMSE2) \n",
    "print(\"RMSE baseline\" ,RMSE2_baseline) "
   ]
  },
  {
   "cell_type": "code",
   "execution_count": 59,
   "id": "cb88c293",
   "metadata": {},
   "outputs": [
    {
     "name": "stdout",
     "output_type": "stream",
     "text": [
      "MSE manual == MSE sklearn:  True\n",
      "MSE manual - baseline == MSE sklearn - baseline:  True\n"
     ]
    }
   ],
   "source": [
    "print(\"MSE manual == MSE sklearn: \", MSE == MSE2) \n",
    "print(\"MSE manual - baseline == MSE sklearn - baseline: \", MSE_baseline == MSE2_baseline) "
   ]
  },
  {
   "cell_type": "code",
   "execution_count": 55,
   "id": "618c1152",
   "metadata": {},
   "outputs": [
    {
     "name": "stdout",
     "output_type": "stream",
     "text": [
      "RMSE manual == RMSE skearn:  True\n",
      "RMSE manual - baseline == RMSE skearn - baseline:  True\n"
     ]
    }
   ],
   "source": [
    "print(\"RMSE manual == RMSE skearn: \", RMSE == RMSE2) \n",
    "print(\"RMSE manual - baseline == RMSE skearn - baseline: \", RMSE_baseline == RMSE2_baseline) "
   ]
  },
  {
   "cell_type": "code",
   "execution_count": 56,
   "id": "690badc4",
   "metadata": {},
   "outputs": [
    {
     "name": "stdout",
     "output_type": "stream",
     "text": [
      "SSE manual == SSE sklearn:  True\n",
      "SSE manual - baseline == SSE sklearn - baseline:  True\n"
     ]
    }
   ],
   "source": [
    "print(\"SSE manual == SSE sklearn: \", SSE == SSE2) \n",
    "print(\"SSE manual - baseline == SSE sklearn - baseline: \", SSE_baseline == SSE2_baseline) "
   ]
  },
  {
   "cell_type": "code",
   "execution_count": 57,
   "id": "503cbfce",
   "metadata": {},
   "outputs": [
    {
     "data": {
      "text/plain": [
       "0.45661658635167646"
      ]
     },
     "execution_count": 57,
     "metadata": {},
     "output_type": "execute_result"
    }
   ],
   "source": [
    "# calculate R2 manually:\n",
    "\n",
    "# Total Sum of Squares = SSE for baseline\n",
    "TSS = SSE_baseline =   df['baseline_residual^2'].sum()\n",
    "\n",
    "# Sum of squared error for the regression line (Unexplained error)\n",
    "SSE = df['residual^2'].sum()\n",
    "\n",
    "# ESS - Explained sum of squares ('Explained Error')\n",
    "ESS = TSS - SSE\n",
    "\n",
    "# Calculate R2\n",
    "R2 = ESS/TSS\n",
    "R2"
   ]
  },
  {
   "cell_type": "code",
   "execution_count": 58,
   "id": "581f50a4",
   "metadata": {},
   "outputs": [
    {
     "data": {
      "text/plain": [
       "0.45661658635167657"
      ]
     },
     "execution_count": 58,
     "metadata": {},
     "output_type": "execute_result"
    }
   ],
   "source": [
    "# calculate R2 the easy way:\n",
    "\n",
    "from sklearn.metrics import r2_score\n",
    "r2_score(df.tip, df.yhat)"
   ]
  },
  {
   "cell_type": "code",
   "execution_count": 60,
   "id": "1e5ba8c7",
   "metadata": {},
   "outputs": [
    {
     "ename": "NameError",
     "evalue": "name 'df_eval' is not defined",
     "output_type": "error",
     "traceback": [
      "\u001b[0;31m---------------------------------------------------------------------------\u001b[0m",
      "\u001b[0;31mNameError\u001b[0m                                 Traceback (most recent call last)",
      "\u001b[0;32m<ipython-input-60-eda21dbe33f4>\u001b[0m in \u001b[0;36m<module>\u001b[0;34m\u001b[0m\n\u001b[0;32m----> 1\u001b[0;31m \u001b[0mdf_eval\u001b[0m\u001b[0;34m[\u001b[0m\u001b[0;34m'error_delta'\u001b[0m\u001b[0;34m]\u001b[0m \u001b[0;34m=\u001b[0m \u001b[0mdf_eval\u001b[0m\u001b[0;34m.\u001b[0m\u001b[0mmodel_error\u001b[0m \u001b[0;34m-\u001b[0m \u001b[0mdf_baseline_eval\u001b[0m\u001b[0;34m.\u001b[0m\u001b[0mmodel_error\u001b[0m\u001b[0;34m\u001b[0m\u001b[0;34m\u001b[0m\u001b[0m\n\u001b[0m\u001b[1;32m      2\u001b[0m \u001b[0mdf_eval\u001b[0m\u001b[0;34m\u001b[0m\u001b[0;34m\u001b[0m\u001b[0m\n",
      "\u001b[0;31mNameError\u001b[0m: name 'df_eval' is not defined"
     ]
    }
   ],
   "source": [
    "df_eval['error_delta'] = df_eval.model_error - df_baseline_eval.model_error\n",
    "df_eval"
   ]
  },
  {
   "cell_type": "code",
   "execution_count": null,
   "id": "a9411bfa",
   "metadata": {},
   "outputs": [],
   "source": []
  }
 ],
 "metadata": {
  "kernelspec": {
   "display_name": "Python 3",
   "language": "python",
   "name": "python3"
  },
  "language_info": {
   "codemirror_mode": {
    "name": "ipython",
    "version": 3
   },
   "file_extension": ".py",
   "mimetype": "text/x-python",
   "name": "python",
   "nbconvert_exporter": "python",
   "pygments_lexer": "ipython3",
   "version": "3.8.8"
  }
 },
 "nbformat": 4,
 "nbformat_minor": 5
}
