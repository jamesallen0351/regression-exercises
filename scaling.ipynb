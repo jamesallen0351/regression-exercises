{
 "cells": [
  {
   "cell_type": "markdown",
   "id": "3868aa27",
   "metadata": {},
   "source": [
    "# Scaling Exercises\n",
    "\n",
    "1. Apply the scalers we talked about in this lesson to your data and visualize the results for the unscaled and scaled distribution .\n",
    "2. Apply the .inverse_transform method to your scaled data. Is the resulting dataset the exact same as the original data?\n",
    "3. Read the documentation for sklearn's QuantileTransformer. Use normal for the output_distribution and apply this scaler to your data. Visualize the result of your data scaling.\n",
    "4. Use the QuantileTransformer, but omit the output_distribution argument. Visualize your results. What do you notice?\n",
    "5. Based on the work you've done, choose a scaling method for your dataset. Write a function within your prepare.py that accepts as input the train, validate, and test data splits, and returns the scaled versions of each. Be sure to only learn the parameters for scaling from your training data!"
   ]
  },
  {
   "cell_type": "code",
   "execution_count": 21,
   "id": "3f1272c9",
   "metadata": {},
   "outputs": [],
   "source": [
    "# imports\n",
    "\n",
    "import warnings\n",
    "warnings.filterwarnings(\"ignore\")\n",
    "\n",
    "import pandas as pd\n",
    "import matplotlib.pyplot as plt\n",
    "import seaborn as sns\n",
    "import numpy as np\n",
    "import os \n",
    "\n",
    "from env import host, user, password\n",
    "from wrangle import new_zillow, wrangle_zillow, wrangle_prep_zillow\n",
    "\n",
    "\n",
    "import sklearn.preprocessing\n",
    "from sklearn.model_selection import train_test_split\n"
   ]
  },
  {
   "cell_type": "code",
   "execution_count": 22,
   "id": "d8497fe7",
   "metadata": {},
   "outputs": [],
   "source": [
    "# getting my zillow data\n",
    "df = wrangle_zillow()"
   ]
  },
  {
   "cell_type": "code",
   "execution_count": 23,
   "id": "b0ccf6ff",
   "metadata": {},
   "outputs": [],
   "source": [
    "# assigning my prep function to df\n",
    "df = wrangle_prep_zillow(df)"
   ]
  },
  {
   "cell_type": "code",
   "execution_count": 24,
   "id": "c990d477",
   "metadata": {},
   "outputs": [
    {
     "data": {
      "text/html": [
       "<div>\n",
       "<style scoped>\n",
       "    .dataframe tbody tr th:only-of-type {\n",
       "        vertical-align: middle;\n",
       "    }\n",
       "\n",
       "    .dataframe tbody tr th {\n",
       "        vertical-align: top;\n",
       "    }\n",
       "\n",
       "    .dataframe thead th {\n",
       "        text-align: right;\n",
       "    }\n",
       "</style>\n",
       "<table border=\"1\" class=\"dataframe\">\n",
       "  <thead>\n",
       "    <tr style=\"text-align: right;\">\n",
       "      <th></th>\n",
       "      <th>bedroomcnt</th>\n",
       "      <th>bathroomcnt</th>\n",
       "      <th>calculatedfinishedsquarefeet</th>\n",
       "      <th>taxvaluedollarcnt</th>\n",
       "      <th>yearbuilt</th>\n",
       "      <th>taxamount</th>\n",
       "      <th>fips</th>\n",
       "    </tr>\n",
       "  </thead>\n",
       "  <tbody>\n",
       "    <tr>\n",
       "      <th>4</th>\n",
       "      <td>4</td>\n",
       "      <td>2</td>\n",
       "      <td>3633</td>\n",
       "      <td>296425</td>\n",
       "      <td>2005</td>\n",
       "      <td>6941</td>\n",
       "      <td>6037</td>\n",
       "    </tr>\n",
       "    <tr>\n",
       "      <th>6</th>\n",
       "      <td>3</td>\n",
       "      <td>4</td>\n",
       "      <td>1620</td>\n",
       "      <td>847770</td>\n",
       "      <td>2011</td>\n",
       "      <td>10244</td>\n",
       "      <td>6037</td>\n",
       "    </tr>\n",
       "    <tr>\n",
       "      <th>7</th>\n",
       "      <td>3</td>\n",
       "      <td>2</td>\n",
       "      <td>2077</td>\n",
       "      <td>646760</td>\n",
       "      <td>1926</td>\n",
       "      <td>7924</td>\n",
       "      <td>6037</td>\n",
       "    </tr>\n",
       "    <tr>\n",
       "      <th>11</th>\n",
       "      <td>0</td>\n",
       "      <td>0</td>\n",
       "      <td>1200</td>\n",
       "      <td>5328</td>\n",
       "      <td>1972</td>\n",
       "      <td>91</td>\n",
       "      <td>6037</td>\n",
       "    </tr>\n",
       "    <tr>\n",
       "      <th>14</th>\n",
       "      <td>0</td>\n",
       "      <td>0</td>\n",
       "      <td>171</td>\n",
       "      <td>6920</td>\n",
       "      <td>1973</td>\n",
       "      <td>255</td>\n",
       "      <td>6037</td>\n",
       "    </tr>\n",
       "  </tbody>\n",
       "</table>\n",
       "</div>"
      ],
      "text/plain": [
       "    bedroomcnt  bathroomcnt  calculatedfinishedsquarefeet  taxvaluedollarcnt  \\\n",
       "4            4            2                          3633             296425   \n",
       "6            3            4                          1620             847770   \n",
       "7            3            2                          2077             646760   \n",
       "11           0            0                          1200               5328   \n",
       "14           0            0                           171               6920   \n",
       "\n",
       "    yearbuilt  taxamount  fips  \n",
       "4        2005       6941  6037  \n",
       "6        2011      10244  6037  \n",
       "7        1926       7924  6037  \n",
       "11       1972         91  6037  \n",
       "14       1973        255  6037  "
      ]
     },
     "execution_count": 24,
     "metadata": {},
     "output_type": "execute_result"
    }
   ],
   "source": [
    "df.head() #check_yo_head"
   ]
  },
  {
   "cell_type": "code",
   "execution_count": 26,
   "id": "ac8f1b49",
   "metadata": {},
   "outputs": [
    {
     "data": {
      "text/plain": [
       "((1649637, 7), (255626, 7), (224951, 7))"
      ]
     },
     "execution_count": 26,
     "metadata": {},
     "output_type": "execute_result"
    }
   ],
   "source": [
    "# split the data\n",
    "\n",
    "train_and_validate, test = train_test_split(df, test_size=.12, random_state=123)\n",
    "train, validate = train_test_split(train_and_validate, test_size=.12, random_state=123)\n",
    "\n",
    "train.shape, test.shape, validate.shape"
   ]
  },
  {
   "cell_type": "code",
   "execution_count": 28,
   "id": "98da1a6d",
   "metadata": {},
   "outputs": [
    {
     "data": {
      "text/plain": [
       "array([[1.20000000e-01, 6.25000000e-02, 2.87011521e-03, 2.30486302e-03,\n",
       "        7.90697674e-01, 2.33374610e-03],\n",
       "       [1.60000000e-01, 9.37500000e-02, 2.38616382e-03, 7.15144868e-03,\n",
       "        7.76744186e-01, 6.99660049e-03],\n",
       "       [8.00000000e-02, 3.12500000e-02, 7.04406477e-04, 3.26426535e-03,\n",
       "        5.76744186e-01, 3.75198846e-03],\n",
       "       [1.60000000e-01, 9.37500000e-02, 3.11891452e-03, 3.72393624e-03,\n",
       "        8.32558140e-01, 3.81691780e-03],\n",
       "       [8.00000000e-02, 3.12500000e-02, 2.30218093e-03, 5.57414010e-03,\n",
       "        4.27906977e-01, 5.56537225e-03],\n",
       "       [1.60000000e-01, 9.37500000e-02, 1.78568617e-03, 4.95281879e-03,\n",
       "        7.86046512e-01, 5.04315482e-03],\n",
       "       [1.20000000e-01, 9.37500000e-02, 1.40356402e-03, 5.08910011e-03,\n",
       "        8.51162791e-01, 5.01996577e-03],\n",
       "       [8.00000000e-02, 3.12500000e-02, 9.77350865e-04, 4.78972693e-03,\n",
       "        7.11627907e-01, 4.21113167e-03],\n",
       "       [1.20000000e-01, 6.25000000e-02, 1.18940766e-03, 1.52221282e-03,\n",
       "        8.55813953e-01, 2.39960300e-03],\n",
       "       [1.20000000e-01, 6.25000000e-02, 1.37836916e-03, 7.20169902e-04,\n",
       "        7.20930233e-01, 9.13648612e-04]])"
      ]
     },
     "execution_count": 28,
     "metadata": {},
     "output_type": "execute_result"
    }
   ],
   "source": [
    "# 1. create the object\n",
    "scaler = sklearn.preprocessing.MinMaxScaler()\n",
    "\n",
    "# 2. fit the object (learn the min and max value)\n",
    "scaler.fit(train[['bedroomcnt', 'bathroomcnt', 'calculatedfinishedsquarefeet', 'taxvaluedollarcnt', 'yearbuilt', 'taxamount']])\n",
    "\n",
    "# 3. use the object (use the min, max to do the transformation)\n",
    "\n",
    "scaled_bill = scaler.transform(train[['bedroomcnt', 'bathroomcnt', 'calculatedfinishedsquarefeet', 'taxvaluedollarcnt', 'yearbuilt', 'taxamount']])\n",
    "scaled_bill[:10]"
   ]
  },
  {
   "cell_type": "code",
   "execution_count": 29,
   "id": "bfa38a90",
   "metadata": {},
   "outputs": [],
   "source": [
    "# assign the scaled values as new columns in the train\n",
    "train[['bedroomcnt', 'bathroomcnt', 'calculatedfinishedsquarefeet', 'taxvaluedollarcnt', 'yearbuilt', 'taxamount']] = scaled_bill"
   ]
  },
  {
   "cell_type": "code",
   "execution_count": 30,
   "id": "8d362f31",
   "metadata": {},
   "outputs": [
    {
     "data": {
      "text/html": [
       "<div>\n",
       "<style scoped>\n",
       "    .dataframe tbody tr th:only-of-type {\n",
       "        vertical-align: middle;\n",
       "    }\n",
       "\n",
       "    .dataframe tbody tr th {\n",
       "        vertical-align: top;\n",
       "    }\n",
       "\n",
       "    .dataframe thead th {\n",
       "        text-align: right;\n",
       "    }\n",
       "</style>\n",
       "<table border=\"1\" class=\"dataframe\">\n",
       "  <thead>\n",
       "    <tr style=\"text-align: right;\">\n",
       "      <th></th>\n",
       "      <th>bedroomcnt</th>\n",
       "      <th>bathroomcnt</th>\n",
       "      <th>calculatedfinishedsquarefeet</th>\n",
       "      <th>taxvaluedollarcnt</th>\n",
       "      <th>yearbuilt</th>\n",
       "      <th>taxamount</th>\n",
       "      <th>fips</th>\n",
       "    </tr>\n",
       "  </thead>\n",
       "  <tbody>\n",
       "    <tr>\n",
       "      <th>30251</th>\n",
       "      <td>0.12</td>\n",
       "      <td>0.06250</td>\n",
       "      <td>0.002870</td>\n",
       "      <td>0.002305</td>\n",
       "      <td>0.790698</td>\n",
       "      <td>0.002334</td>\n",
       "      <td>6059</td>\n",
       "    </tr>\n",
       "    <tr>\n",
       "      <th>1634157</th>\n",
       "      <td>0.16</td>\n",
       "      <td>0.09375</td>\n",
       "      <td>0.002386</td>\n",
       "      <td>0.007151</td>\n",
       "      <td>0.776744</td>\n",
       "      <td>0.006997</td>\n",
       "      <td>6059</td>\n",
       "    </tr>\n",
       "    <tr>\n",
       "      <th>467816</th>\n",
       "      <td>0.08</td>\n",
       "      <td>0.03125</td>\n",
       "      <td>0.000704</td>\n",
       "      <td>0.003264</td>\n",
       "      <td>0.576744</td>\n",
       "      <td>0.003752</td>\n",
       "      <td>6037</td>\n",
       "    </tr>\n",
       "    <tr>\n",
       "      <th>438194</th>\n",
       "      <td>0.16</td>\n",
       "      <td>0.09375</td>\n",
       "      <td>0.003119</td>\n",
       "      <td>0.003724</td>\n",
       "      <td>0.832558</td>\n",
       "      <td>0.003817</td>\n",
       "      <td>6037</td>\n",
       "    </tr>\n",
       "    <tr>\n",
       "      <th>1318124</th>\n",
       "      <td>0.08</td>\n",
       "      <td>0.03125</td>\n",
       "      <td>0.002302</td>\n",
       "      <td>0.005574</td>\n",
       "      <td>0.427907</td>\n",
       "      <td>0.005565</td>\n",
       "      <td>6037</td>\n",
       "    </tr>\n",
       "  </tbody>\n",
       "</table>\n",
       "</div>"
      ],
      "text/plain": [
       "         bedroomcnt  bathroomcnt  calculatedfinishedsquarefeet  \\\n",
       "30251          0.12      0.06250                      0.002870   \n",
       "1634157        0.16      0.09375                      0.002386   \n",
       "467816         0.08      0.03125                      0.000704   \n",
       "438194         0.16      0.09375                      0.003119   \n",
       "1318124        0.08      0.03125                      0.002302   \n",
       "\n",
       "         taxvaluedollarcnt  yearbuilt  taxamount  fips  \n",
       "30251             0.002305   0.790698   0.002334  6059  \n",
       "1634157           0.007151   0.776744   0.006997  6059  \n",
       "467816            0.003264   0.576744   0.003752  6037  \n",
       "438194            0.003724   0.832558   0.003817  6037  \n",
       "1318124           0.005574   0.427907   0.005565  6037  "
      ]
     },
     "execution_count": 30,
     "metadata": {},
     "output_type": "execute_result"
    }
   ],
   "source": [
    "train.head()"
   ]
  },
  {
   "cell_type": "code",
   "execution_count": null,
   "id": "a82305b5",
   "metadata": {},
   "outputs": [],
   "source": []
  }
 ],
 "metadata": {
  "kernelspec": {
   "display_name": "Python 3",
   "language": "python",
   "name": "python3"
  },
  "language_info": {
   "codemirror_mode": {
    "name": "ipython",
    "version": 3
   },
   "file_extension": ".py",
   "mimetype": "text/x-python",
   "name": "python",
   "nbconvert_exporter": "python",
   "pygments_lexer": "ipython3",
   "version": "3.8.8"
  }
 },
 "nbformat": 4,
 "nbformat_minor": 5
}
